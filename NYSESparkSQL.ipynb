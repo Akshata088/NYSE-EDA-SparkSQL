{
  "nbformat": 4,
  "nbformat_minor": 0,
  "metadata": {
    "colab": {
      "provenance": []
    },
    "kernelspec": {
      "name": "python3",
      "display_name": "Python 3"
    },
    "language_info": {
      "name": "python"
    }
  },
  "cells": [
    {
      "cell_type": "code",
      "execution_count": null,
      "metadata": {
        "id": "lmgeWG8X9x0D"
      },
      "outputs": [],
      "source": [
        "from pyspark.sql.types import StructType, StringType, IntegerType, DoubleType, LongType\n",
        "from pyspark.sql import SparkSession  #allows us to work in structure data/schema"
      ]
    },
    {
      "cell_type": "code",
      "source": [
        "spark = SparkSession.builder.appName(\"New York Stock Data\").getOrCreate()"
      ],
      "metadata": {
        "id": "lCGzEJMf-01y"
      },
      "execution_count": null,
      "outputs": []
    },
    {
      "cell_type": "code",
      "source": [
        "#true is for null values here which allows null values"
      ],
      "metadata": {
        "id": "egwEaGWQA1Cw"
      },
      "execution_count": null,
      "outputs": []
    },
    {
      "cell_type": "code",
      "source": [
        "schema_nyse = StructType().add(\"exchange_name\",StringType(),True).add(\"stock_id\",StringType(),True).add(\"stock_dt\",StringType(),True).add(\"open\",DoubleType(),True).add(\"high\",DoubleType(),True).add(\"low\",DoubleType(),True).add(\"close\",DoubleType(),True).add(\"volume\",LongType(),True).add(\"adj_close\",DoubleType(),True)"
      ],
      "metadata": {
        "id": "nw70XQuUAfrV"
      },
      "execution_count": null,
      "outputs": []
    },
    {
      "cell_type": "code",
      "source": [
        "print(schema_nyse)"
      ],
      "metadata": {
        "colab": {
          "base_uri": "https://localhost:8080/"
        },
        "id": "8U_L6NIBBDI2",
        "outputId": "80ab380b-135e-45b9-a580-b082e6ccd15d"
      },
      "execution_count": null,
      "outputs": [
        {
          "output_type": "stream",
          "name": "stdout",
          "text": [
            "StructType([StructField('exchange_name', StringType(), True), StructField('stock_id', StringType(), True), StructField('stock_dt', StringType(), True), StructField('open', DoubleType(), True), StructField('high', DoubleType(), True), StructField('low', DoubleType(), True), StructField('close', DoubleType(), True), StructField('volume', LongType(), True), StructField('adj_close', DoubleType(), True)])\n"
          ]
        }
      ]
    },
    {
      "cell_type": "code",
      "source": [
        "#for other than comma sperated values we can use .option(\"delimiter\",\"\")\n",
        "#for skipping rows we can use .option(\"skipRows\",\"1\") cant skip the rows in between"
      ],
      "metadata": {
        "id": "wqFwNHYZBwik"
      },
      "execution_count": null,
      "outputs": []
    },
    {
      "cell_type": "code",
      "source": [
        "df_w_schema = spark.read.format(\"csv\").option(\"header\",\"False\").schema(schema_nyse).load(\"/content/sample_data/NYSE.csv\")"
      ],
      "metadata": {
        "id": "J25_W13pBHeP"
      },
      "execution_count": null,
      "outputs": []
    },
    {
      "cell_type": "code",
      "source": [
        "df_w_schema.printSchema()"
      ],
      "metadata": {
        "colab": {
          "base_uri": "https://localhost:8080/"
        },
        "id": "Bseei9F2CLmw",
        "outputId": "0db7bfe6-ba41-4dd7-eda2-ae5c9df4e444"
      },
      "execution_count": null,
      "outputs": [
        {
          "output_type": "stream",
          "name": "stdout",
          "text": [
            "root\n",
            " |-- exchange_name: string (nullable = true)\n",
            " |-- stock_id: string (nullable = true)\n",
            " |-- stock_dt: string (nullable = true)\n",
            " |-- open: double (nullable = true)\n",
            " |-- high: double (nullable = true)\n",
            " |-- low: double (nullable = true)\n",
            " |-- close: double (nullable = true)\n",
            " |-- volume: long (nullable = true)\n",
            " |-- adj_close: double (nullable = true)\n",
            "\n"
          ]
        }
      ]
    },
    {
      "cell_type": "code",
      "source": [
        "df_w_schema.count()"
      ],
      "metadata": {
        "colab": {
          "base_uri": "https://localhost:8080/"
        },
        "id": "-yZU8WAEDOmR",
        "outputId": "58fe4948-25a4-49cd-8d37-4faaeccd7f93"
      },
      "execution_count": null,
      "outputs": [
        {
          "output_type": "execute_result",
          "data": {
            "text/plain": [
              "735026"
            ]
          },
          "metadata": {},
          "execution_count": 8
        }
      ]
    },
    {
      "cell_type": "code",
      "source": [
        "df_w_schema.show(10)  #by default show() will give 20 only"
      ],
      "metadata": {
        "colab": {
          "base_uri": "https://localhost:8080/"
        },
        "id": "AkKtGU_ADcsO",
        "outputId": "ccf9b74f-0302-4e71-88c6-3e34b77f5c3e"
      },
      "execution_count": null,
      "outputs": [
        {
          "output_type": "stream",
          "name": "stdout",
          "text": [
            "+-------------+--------+----------+----+----+----+-----+------+---------+\n",
            "|exchange_name|stock_id|  stock_dt|open|high| low|close|volume|adj_close|\n",
            "+-------------+--------+----------+----+----+----+-----+------+---------+\n",
            "|         NYSE|     AEA|2010-02-08|4.42|4.42|4.21| 4.24|205500|     4.24|\n",
            "|         NYSE|     AEA|2010-02-05|4.42|4.54|4.22| 4.41|194300|     4.41|\n",
            "|         NYSE|     AEA|2010-02-04|4.55|4.69|4.39| 4.42|233800|     4.42|\n",
            "|         NYSE|     AEA|2010-02-03|4.65|4.69| 4.5| 4.55|182100|     4.55|\n",
            "|         NYSE|     AEA|2010-02-02|4.74| 5.0|4.62| 4.66|222700|     4.66|\n",
            "|         NYSE|     AEA|2010-02-01|4.84|4.92|4.68| 4.75|194800|     4.75|\n",
            "|         NYSE|     AEA|2010-01-29|4.97|5.05|4.76| 4.83|222900|     4.83|\n",
            "|         NYSE|     AEA|2010-01-28|5.12|5.22|4.81| 4.98|283100|     4.98|\n",
            "|         NYSE|     AEA|2010-01-27|4.82|5.16|4.79| 5.09|243500|     5.09|\n",
            "|         NYSE|     AEA|2010-01-26|5.18|5.18|4.81| 4.84|554800|     4.84|\n",
            "+-------------+--------+----------+----+----+----+-----+------+---------+\n",
            "only showing top 10 rows\n",
            "\n"
          ]
        }
      ]
    },
    {
      "cell_type": "code",
      "source": [
        "df_w_schema.registerTempTable(\"nyse\")  #dataframe name and table name can be same\n"
      ],
      "metadata": {
        "colab": {
          "base_uri": "https://localhost:8080/"
        },
        "id": "lkFJGHzYEf1H",
        "outputId": "ef5752b5-5da1-420e-8330-20ac8688c09f"
      },
      "execution_count": null,
      "outputs": [
        {
          "output_type": "stream",
          "name": "stderr",
          "text": [
            "/usr/local/lib/python3.10/dist-packages/pyspark/sql/dataframe.py:329: FutureWarning: Deprecated in 2.0, use createOrReplaceTempView instead.\n",
            "  warnings.warn(\"Deprecated in 2.0, use createOrReplaceTempView instead.\", FutureWarning)\n"
          ]
        }
      ]
    },
    {
      "cell_type": "code",
      "source": [
        "df_TotStockVol = spark.sql(\"select stock_id,sum(volume) from nyse group by stock_id\")"
      ],
      "metadata": {
        "id": "a5oH5mOsGD_T"
      },
      "execution_count": null,
      "outputs": []
    },
    {
      "cell_type": "code",
      "source": [
        "df_TotStockVol.count()"
      ],
      "metadata": {
        "colab": {
          "base_uri": "https://localhost:8080/"
        },
        "id": "FjLrxhxQGjkJ",
        "outputId": "18a953dd-c1f0-4ca5-f891-6a82508fb559"
      },
      "execution_count": null,
      "outputs": [
        {
          "output_type": "execute_result",
          "data": {
            "text/plain": [
              "203"
            ]
          },
          "metadata": {},
          "execution_count": 13
        }
      ]
    },
    {
      "cell_type": "code",
      "source": [
        "df_TotStockVol.show(203)"
      ],
      "metadata": {
        "colab": {
          "base_uri": "https://localhost:8080/"
        },
        "id": "jQlThpXbGvEf",
        "outputId": "fc5453e4-03e5-4473-a4ef-c05aaaf935aa"
      },
      "execution_count": null,
      "outputs": [
        {
          "output_type": "stream",
          "name": "stdout",
          "text": [
            "+--------+-----------+\n",
            "|stock_id|sum(volume)|\n",
            "+--------+-----------+\n",
            "|     AXP|40263020300|\n",
            "|     AAV|  834246600|\n",
            "|     ARM| 2087366800|\n",
            "|     ASH| 2717488700|\n",
            "|     AEB|   53273300|\n",
            "|     ALE|  465167800|\n",
            "|     ACH| 1448279800|\n",
            "|     ASF|  848352700|\n",
            "|     ABK|11899868300|\n",
            "|     ATU| 1226088700|\n",
            "|      AM| 2963437400|\n",
            "|      AA|42061448400|\n",
            "|     ALL|11492379500|\n",
            "|     ADI|14597316000|\n",
            "|     AKP|   34156700|\n",
            "|     ARK|  408851300|\n",
            "|     ANN| 4892554900|\n",
            "|     ABM|  675519400|\n",
            "|     AOS|  601422200|\n",
            "|     ABX|16691172100|\n",
            "|     ADX|  323399200|\n",
            "|     ATE|   38969400|\n",
            "|     ACO|  519620500|\n",
            "|     AGD|  100765300|\n",
            "|     ACC|  495415800|\n",
            "|     ARE|  759981300|\n",
            "|     AIG| 7062693700|\n",
            "|     APH| 3807963100|\n",
            "|     AAP| 2802701500|\n",
            "|     ADM|15354593500|\n",
            "|     AFG| 1815621200|\n",
            "|      AU| 3143678800|\n",
            "|     AOL|  147580700|\n",
            "|     AVB| 1870368200|\n",
            "|     AZN| 3418077300|\n",
            "|     AIZ| 1676102800|\n",
            "|     AHC|   78301600|\n",
            "|     APC|15555731900|\n",
            "|     ANW|  327122100|\n",
            "|     APL|  364876100|\n",
            "|     AVT| 3427089600|\n",
            "|     AHD|  102449600|\n",
            "|     AIN|  609794300|\n",
            "|     ACM|  699547300|\n",
            "|     AEM| 4338054800|\n",
            "|     AYN|   17421600|\n",
            "|     ABG|  458850900|\n",
            "|     ACF| 5453798000|\n",
            "|     AVD|  227437900|\n",
            "|     ANF| 6513209000|\n",
            "|     ANR| 2846725700|\n",
            "|     AIB| 1208134500|\n",
            "|     ARO| 4092001300|\n",
            "|     ATV|   69038900|\n",
            "|     AWK|  449445900|\n",
            "|     AAI| 5246821400|\n",
            "|     AHT| 1060047600|\n",
            "|     ART|   42012600|\n",
            "|     ALV| 1339964100|\n",
            "|     APF|  499342800|\n",
            "|     ATO|  873201100|\n",
            "|     AWF|  790875600|\n",
            "|     ATR|  874445500|\n",
            "|     ABV| 1579314800|\n",
            "|     AHL|  794405100|\n",
            "|     AAN|  817567400|\n",
            "|     AEA|  483117300|\n",
            "|     AIT|  842036900|\n",
            "|     AMP| 2564267600|\n",
            "|     ACI| 7219904300|\n",
            "|     ANH| 1407062000|\n",
            "|      AB| 1125446300|\n",
            "|     AVK|  123961500|\n",
            "|     AMG| 1377892200|\n",
            "|     AEO|14731442100|\n",
            "|     ALZ|   19964700|\n",
            "|     AEL|  683272700|\n",
            "|     ARG| 1713739100|\n",
            "|     AFF|   87791300|\n",
            "|     AMX|11000819500|\n",
            "|     AOD|  538957600|\n",
            "|     ASI|   58295700|\n",
            "|     ASA|  674549000|\n",
            "|     ABB| 4532301800|\n",
            "|     AXE| 1503508400|\n",
            "|     ADY|   93691400|\n",
            "|     AHS|  615786600|\n",
            "|     ALQ|    8098900|\n",
            "|     AVP|20750196700|\n",
            "|     ALD| 2556923500|\n",
            "|     ATT|   99347600|\n",
            "|     APD| 5601186900|\n",
            "|     AFE|   10805200|\n",
            "|     AWH|  241105700|\n",
            "|     AKT|   41654000|\n",
            "|     AFB|   98894100|\n",
            "|     ASP|   42257700|\n",
            "|     ARD|  691227500|\n",
            "|      AN| 6153959200|\n",
            "|     APB|  270705600|\n",
            "|     AEE| 2402481500|\n",
            "|     AGM|  270396200|\n",
            "|     ALK| 1800717700|\n",
            "|     AMR|22505621700|\n",
            "|     AEG| 1753381400|\n",
            "|      AP|  158385300|\n",
            "|     AVA|  990505000|\n",
            "|     ASG|  239830100|\n",
            "|     AKF|   49757200|\n",
            "|     ACE| 5224896200|\n",
            "|     APX|  140637400|\n",
            "|     AIV| 2922335500|\n",
            "|     AVY| 2597060500|\n",
            "|     AVX| 1347876500|\n",
            "|     ARL|   46445200|\n",
            "|     AOB| 1597133000|\n",
            "|     ABA|   11686500|\n",
            "|     ALG|   64657600|\n",
            "|     AXA| 1240615500|\n",
            "|     ACS| 3425004600|\n",
            "|     ARB|  502288800|\n",
            "|     AZZ|  323604700|\n",
            "|     AEF|   71458600|\n",
            "|     AGN| 7391686500|\n",
            "|     AMB| 2093952900|\n",
            "|     ABD|  469354400|\n",
            "|     AER|  346989800|\n",
            "|      AV|    2295800|\n",
            "|     ALU|12804053900|\n",
            "|     AGU| 3564417500|\n",
            "|     AIR| 1041626000|\n",
            "|     ALX|   41840100|\n",
            "|     ARP|  382744400|\n",
            "|     ACN| 6578886300|\n",
            "|     AFL| 8624168700|\n",
            "|     AEC|  291003000|\n",
            "|     AEH|  113363800|\n",
            "|     AME| 1858864400|\n",
            "|     ASR|  241465300|\n",
            "|     ALY|  480412000|\n",
            "|     ADP|11358284900|\n",
            "|     AFC|   20584200|\n",
            "|     ATW| 2650897000|\n",
            "|     AEV|   54542900|\n",
            "|     AED|   69436400|\n",
            "|     AMT| 6785453000|\n",
            "|     ALC|   64387900|\n",
            "|     AGL| 1050227500|\n",
            "|    ALEX|  104640400|\n",
            "|     AES|11884945300|\n",
            "|     AYE| 4285531900|\n",
            "|     AXL| 2904393700|\n",
            "|     AKR|  430730400|\n",
            "|      AI|  133066800|\n",
            "|    AGCO| 3699642100|\n",
            "|     ALB| 1575714100|\n",
            "|     AKS| 7720966200|\n",
            "|     ARI|   13758200|\n",
            "|     AYI|  715313300|\n",
            "|     ALF|   12404300|\n",
            "|     AEP| 7175043900|\n",
            "|     ADS| 2098398000|\n",
            "|     AUO| 4642900600|\n",
            "|     ACV| 1668185800|\n",
            "|     AON| 5817971400|\n",
            "|     AWR|  213545100|\n",
            "|     AWP|  285215800|\n",
            "|     APA|11482389600|\n",
            "|     ABR|  268351700|\n",
            "|     AYR|  472431800|\n",
            "|     AMN|  192500700|\n",
            "|     AMD|47252808500|\n",
            "|     AET|30218027200|\n",
            "|     APU|  224190500|\n",
            "|     AFN|  601246500|\n",
            "|     AGC|   78965000|\n",
            "|     AOI|  997663000|\n",
            "|     ADC|   84477600|\n",
            "|     ARW| 2958506000|\n",
            "|     AAR|   49882000|\n",
            "|    ABVT|   49839000|\n",
            "|     AXS| 1236174900|\n",
            "|     ABT|25664130200|\n",
            "|     AWI|  246435700|\n",
            "|     ATI| 3633566200|\n",
            "|     AJG| 1741323700|\n",
            "|     ALM|   20421200|\n",
            "|     ACL| 1176516200|\n",
            "|     AGO| 1356870600|\n",
            "|     ARJ|  289810600|\n",
            "|     ACG| 1481168200|\n",
            "|     AXR|  107629900|\n",
            "|     ATK|  933991800|\n",
            "|     ASX| 1045139800|\n",
            "|     ALJ|  428456900|\n",
            "|     ABC|11439581700|\n",
            "|     AGP| 1425712200|\n",
            "|     AZO| 3366821200|\n",
            "|     AUY|11034706100|\n",
            "|     AWC|  259152600|\n",
            "|     AVF|  129141600|\n",
            "|     AIQ|  387333900|\n",
            "|      AF| 2789196400|\n",
            "+--------+-----------+\n",
            "\n"
          ]
        }
      ]
    },
    {
      "cell_type": "code",
      "source": [
        "df_TotStockVol.rdd.getNumPartitions()"
      ],
      "metadata": {
        "colab": {
          "base_uri": "https://localhost:8080/"
        },
        "id": "mQ-c6yzXHbTw",
        "outputId": "a078e317-0c62-4d57-e4b2-cf72aaa5e1e1"
      },
      "execution_count": null,
      "outputs": [
        {
          "output_type": "execute_result",
          "data": {
            "text/plain": [
              "1"
            ]
          },
          "metadata": {},
          "execution_count": 15
        }
      ]
    },
    {
      "cell_type": "code",
      "source": [
        "df_TotStockVol.write.csv(\"/content/sample_data/pyspark1\")"
      ],
      "metadata": {
        "id": "vPp2WhjmHlIz"
      },
      "execution_count": null,
      "outputs": []
    },
    {
      "cell_type": "markdown",
      "source": [],
      "metadata": {
        "id": "kUJ461IELeTb"
      }
    }
  ]
}